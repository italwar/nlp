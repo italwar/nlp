{
 "cells": [
  {
   "cell_type": "code",
   "execution_count": 13,
   "id": "8ea9cc33",
   "metadata": {},
   "outputs": [],
   "source": [
    "corpus=\"\"\"\n",
    "Hello welcome, to data science course's hindi! youtube channel.\n",
    "Please do subscribe the channel.\n",
    "\n",
    "\"\"\""
   ]
  },
  {
   "cell_type": "code",
   "execution_count": 14,
   "id": "fcd68fad",
   "metadata": {},
   "outputs": [],
   "source": [
    "## Paragraph ---> sentence\n",
    "from nltk.tokenize import sent_tokenize"
   ]
  },
  {
   "cell_type": "code",
   "execution_count": 15,
   "id": "b6acf243",
   "metadata": {},
   "outputs": [
    {
     "data": {
      "text/plain": [
       "[\"\\nHello welcome, to data science course's hindi!\",\n",
       " 'youtube channel.',\n",
       " 'Please do subscribe the channel.']"
      ]
     },
     "execution_count": 15,
     "metadata": {},
     "output_type": "execute_result"
    }
   ],
   "source": [
    "sent_tokenize(corpus)"
   ]
  },
  {
   "cell_type": "code",
   "execution_count": 16,
   "id": "df1f7c59",
   "metadata": {},
   "outputs": [],
   "source": [
    "## Paragraph ---> words\n",
    "from nltk.tokenize import word_tokenize"
   ]
  },
  {
   "cell_type": "code",
   "execution_count": 17,
   "id": "650835e3",
   "metadata": {},
   "outputs": [
    {
     "data": {
      "text/plain": [
       "['Hello',\n",
       " 'welcome',\n",
       " ',',\n",
       " 'to',\n",
       " 'data',\n",
       " 'science',\n",
       " 'course',\n",
       " \"'s\",\n",
       " 'hindi',\n",
       " '!',\n",
       " 'youtube',\n",
       " 'channel',\n",
       " '.',\n",
       " 'Please',\n",
       " 'do',\n",
       " 'subscribe',\n",
       " 'the',\n",
       " 'channel',\n",
       " '.']"
      ]
     },
     "execution_count": 17,
     "metadata": {},
     "output_type": "execute_result"
    }
   ],
   "source": [
    "word_tokenize(corpus)"
   ]
  },
  {
   "cell_type": "code",
   "execution_count": 18,
   "id": "37be97d6",
   "metadata": {},
   "outputs": [],
   "source": [
    "from nltk.tokenize import wordpunct_tokenize"
   ]
  },
  {
   "cell_type": "code",
   "execution_count": 19,
   "id": "fdfdfd3c",
   "metadata": {},
   "outputs": [
    {
     "data": {
      "text/plain": [
       "['Hello',\n",
       " 'welcome',\n",
       " ',',\n",
       " 'to',\n",
       " 'data',\n",
       " 'science',\n",
       " 'course',\n",
       " \"'\",\n",
       " 's',\n",
       " 'hindi',\n",
       " '!',\n",
       " 'youtube',\n",
       " 'channel',\n",
       " '.',\n",
       " 'Please',\n",
       " 'do',\n",
       " 'subscribe',\n",
       " 'the',\n",
       " 'channel',\n",
       " '.']"
      ]
     },
     "execution_count": 19,
     "metadata": {},
     "output_type": "execute_result"
    }
   ],
   "source": [
    "wordpunct_tokenize(corpus)"
   ]
  },
  {
   "cell_type": "code",
   "execution_count": 21,
   "id": "d5379b68",
   "metadata": {},
   "outputs": [],
   "source": [
    "from nltk.tokenize import TreebankWordTokenizer"
   ]
  },
  {
   "cell_type": "code",
   "execution_count": 24,
   "id": "4778d40f",
   "metadata": {},
   "outputs": [],
   "source": [
    "tokenizer=TreebankWordTokenizer()"
   ]
  },
  {
   "cell_type": "code",
   "execution_count": 25,
   "id": "3052d594",
   "metadata": {},
   "outputs": [
    {
     "data": {
      "text/plain": [
       "['Hello',\n",
       " 'welcome',\n",
       " ',',\n",
       " 'to',\n",
       " 'data',\n",
       " 'science',\n",
       " 'course',\n",
       " \"'s\",\n",
       " 'hindi',\n",
       " '!',\n",
       " 'youtube',\n",
       " 'channel.',\n",
       " 'Please',\n",
       " 'do',\n",
       " 'subscribe',\n",
       " 'the',\n",
       " 'channel',\n",
       " '.']"
      ]
     },
     "execution_count": 25,
     "metadata": {},
     "output_type": "execute_result"
    }
   ],
   "source": [
    "tokenizer.tokenize(corpus)"
   ]
  },
  {
   "cell_type": "code",
   "execution_count": null,
   "id": "4bcd7730",
   "metadata": {},
   "outputs": [],
   "source": []
  }
 ],
 "metadata": {
  "kernelspec": {
   "display_name": "Python 3",
   "language": "python",
   "name": "python3"
  },
  "language_info": {
   "codemirror_mode": {
    "name": "ipython",
    "version": 3
   },
   "file_extension": ".py",
   "mimetype": "text/x-python",
   "name": "python",
   "nbconvert_exporter": "python",
   "pygments_lexer": "ipython3",
   "version": "3.8.8"
  }
 },
 "nbformat": 4,
 "nbformat_minor": 5
}
